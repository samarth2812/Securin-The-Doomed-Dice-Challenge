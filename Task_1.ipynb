{
 "cells": [
  {
   "cell_type": "markdown",
   "metadata": {},
   "source": [
    "How many total combinations are possible?"
   ]
  },
  {
   "cell_type": "code",
   "execution_count": 1,
   "metadata": {},
   "outputs": [
    {
     "name": "stdout",
     "output_type": "stream",
     "text": [
      "\n",
      "Total Combinations Possible with 2 Dice: 36\n"
     ]
    }
   ],
   "source": [
    "total = 6 * 6\n",
    "print(f'\\nTotal Combinations Possible with 2 Dice: {total}')\n"
   ]
  },
  {
   "cell_type": "markdown",
   "metadata": {},
   "source": [
    "Calculate and display the distribution of all possible combinations that can be\n",
    "obtained when rolling both Die A and Die B together."
   ]
  },
  {
   "cell_type": "code",
   "execution_count": 2,
   "metadata": {},
   "outputs": [
    {
     "name": "stdout",
     "output_type": "stream",
     "text": [
      "\n",
      "Distribution Matrix for 2 Dice:\n",
      "[(1, 1), (1, 2), (1, 3), (1, 4), (1, 5), (1, 6)]\n",
      "[(2, 1), (2, 2), (2, 3), (2, 4), (2, 5), (2, 6)]\n",
      "[(3, 1), (3, 2), (3, 3), (3, 4), (3, 5), (3, 6)]\n",
      "[(4, 1), (4, 2), (4, 3), (4, 4), (4, 5), (4, 6)]\n",
      "[(5, 1), (5, 2), (5, 3), (5, 4), (5, 5), (5, 6)]\n",
      "[(6, 1), (6, 2), (6, 3), (6, 4), (6, 5), (6, 6)]\n"
     ]
    }
   ],
   "source": [
    "\n",
    "\n",
    "distribution = [[(i, j) for j in range(1, 7)] for i in range(1, 7)]\n",
    "dicesum = [[i + j for j in range(1, 7)] for i in range(1, 7)]\n",
    "\n",
    "# Printing face values of 2 Dices\n",
    "print('\\nDistribution Matrix for 2 Dice:')\n",
    "for row in distribution:\n",
    "    print(row)\n",
    "\n"
   ]
  },
  {
   "cell_type": "code",
   "execution_count": 3,
   "metadata": {},
   "outputs": [
    {
     "name": "stdout",
     "output_type": "stream",
     "text": [
      "\n",
      "Sum Distribution Matrix for 2 Dice:\n",
      "[2, 3, 4, 5, 6, 7]\n",
      "[3, 4, 5, 6, 7, 8]\n",
      "[4, 5, 6, 7, 8, 9]\n",
      "[5, 6, 7, 8, 9, 10]\n",
      "[6, 7, 8, 9, 10, 11]\n",
      "[7, 8, 9, 10, 11, 12]\n"
     ]
    }
   ],
   "source": [
    "\n",
    "\n",
    "# Printing Combined Sum\n",
    "print('\\nSum Distribution Matrix for 2 Dice:')\n",
    "for row in dicesum:\n",
    "    print(row)\n",
    "\n"
   ]
  },
  {
   "cell_type": "markdown",
   "metadata": {},
   "source": [
    "Calculate the Probability of all Possible Sums occurring among the number of\n",
    "combinations from (2)."
   ]
  },
  {
   "cell_type": "code",
   "execution_count": 6,
   "metadata": {},
   "outputs": [
    {
     "name": "stdout",
     "output_type": "stream",
     "text": [
      "\n",
      "Probability Distribution for all possible Sums:\n",
      "P(Sum = 2): 0.027777777777777776 => 2.78\n",
      "P(Sum = 3): 0.05555555555555555 => 5.56\n",
      "P(Sum = 4): 0.08333333333333333 => 8.33\n",
      "P(Sum = 5): 0.1111111111111111 => 11.11\n",
      "P(Sum = 6): 0.1388888888888889 => 13.89\n",
      "P(Sum = 7): 0.16666666666666666 => 16.67\n",
      "P(Sum = 8): 0.1388888888888889 => 13.89\n",
      "P(Sum = 9): 0.1111111111111111 => 11.11\n",
      "P(Sum = 10): 0.08333333333333333 => 8.33\n",
      "P(Sum = 11): 0.05555555555555555 => 5.56\n",
      "P(Sum = 12): 0.027777777777777776 => 2.78\n"
     ]
    }
   ],
   "source": [
    "print('\\nProbability Distribution for all possible Sums:')\n",
    "for i in range(2, 13):\n",
    "    combinations = sum(1 for row in dicesum for val in row if val == i)\n",
    "    probability = combinations / total\n",
    "    standard = format(combinations / total * 100, '.2f')\n",
    "    print(f'P(Sum = {i}): {probability} => {standard}')\n",
    "\n",
    "\n"
   ]
  }
 ],
 "metadata": {
  "kernelspec": {
   "display_name": "Python 3",
   "language": "python",
   "name": "python3"
  },
  "language_info": {
   "codemirror_mode": {
    "name": "ipython",
    "version": 3
   },
   "file_extension": ".py",
   "mimetype": "text/x-python",
   "name": "python",
   "nbconvert_exporter": "python",
   "pygments_lexer": "ipython3",
   "version": "3.8.3"
  }
 },
 "nbformat": 4,
 "nbformat_minor": 2
}
